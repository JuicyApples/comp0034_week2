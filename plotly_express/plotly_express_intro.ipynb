{
 "cells": [
  {
   "cell_type": "markdown",
   "metadata": {
    "collapsed": true
   },
   "source": [
    "# Introduction to choropleth maps with plotly express\n",
    "[Plotly Express](https://plotly.com/python/plotly-express/) is a high level API for creating charts using Python. By high level, we mean that the much of the complexity of the code required to create a chart, such as you saw with matplotlib, is hidden from you and provided by the API, allowing you to create charts with less code. It also allows you to create interactive charts, i.e. those that the user can interact with, such as the example you saw in week 1 with the animated bubble chart using the gapminder data. In fact you used the plotly express library to create that chart.\n",
    "\n",
    "We are using plotly express this week to introduce you to the plotly syntax and introduce some interactive chart types. Next week we will take this to the next level and a web framework, Plotly Dash, to create interactive dashboards that can be delivered as web apps.\n",
    "\n",
    "You might recall that JavaScript (not Python) is used to add interactive elements to a web page. So why are you learning Plotly? Plotly uses D3.js behind the scenes. D3.js is a JavaScript library for producing dynamic, interactive data visualizations in web browsers. Why don't we just learn D3.js then? Well, we could, but it would mean learning another programming language, JavaScript, whereas the foundation language in this IEP minor is Python (and Python is more widely used in data science than JavaScript).\n",
    "\n",
    "Plotly express is now a module in the plotly Python package, though it used to be a separate package. Plotly.py is an open-source library built on plotly.js which in turn is built on d3.js. To add a further source of confusion, there are numerous third party wrappers for Plotly for different languages.\n",
    "\n",
    "The plotly express API also includes access to [some datasets](https://plotly.com/python-api-reference/generated/plotly.data.html#module-plotly.data), two of which we have already used (gapminder and iris). We will use some of their other built in datasets in this exercise.\n",
    " \n",
    "### Getting help from the [Plotly community forum](https://community.plotly.com/) and elsewhere\n",
    "The current version of Plotly.py at the time of writing this is 4.9. Some of the examples you may find online are from much earlier versions and the code is likely to need to be adapted to work wuth the current version.\n",
    "\n",
    "## Getting started\n",
    "\n",
    "Let's get on with some coding.\n",
    "\n",
    "You should already have installed the libraries for this week if you have been using the GitHub repository. If not then you will need to install plotly into your Python environment first using `pip install plotly`.\n",
    "\n",
    "The first step is to import the necessary libraries for use in this notebook. You can use `import plotly.express as px \n",
    "` however as of version 4.8 of plotly, you can now also use a Plotly Express-powered backend for Pandas plotting. This means you can now produce interactive plots directly from a data frame, without even needing to import Plotly."
   ]
  },
  {
   "cell_type": "code",
   "execution_count": null,
   "metadata": {
    "pycharm": {
     "is_executing": true
    }
   },
   "outputs": [],
   "source": [
    "import pandas as pd\n",
    "pd.options.plotting.backend = \"plotly\"\n",
    "\n",
    "df = pd.DataFrame(dict(a=[1,3,2], b=[3,2,1]))\n",
    "\n",
    "# using Plotly Express via the Pandas backend\n",
    "fig1 = df.plot.bar()\n",
    "fig1.show()"
   ]
  },
  {
   "cell_type": "code",
   "execution_count": null,
   "metadata": {
    "pycharm": {
     "is_executing": true
    }
   },
   "outputs": [],
   "source": [
    "# using Plotly Express directly\n",
    "import plotly.express as px\n",
    "fig2 = px.bar(df)\n",
    "fig2.show()"
   ]
  },
  {
   "cell_type": "markdown",
   "metadata": {},
   "source": [
    "### Styling charts\n",
    "There are the 4 ways you can style and customize figures made with Plotly Express:\n",
    "\n",
    "1. Control common parameters like width & height, titles, labeling and colors using built-in Plotly Express function arguments\n",
    "2. Updating the figure attributes using [update methods or by directly setting attributes](https://plotly.com/python/creating-and-updating-figures/)\n",
    "3. Using Plotly's [theming/templating mechanism](https://plotly.com/python/templates/) via the template argument to every Plotly Express function\n",
    "4. Setting default values for common parameters using px.defaults\n",
    "\n",
    "Try out the [examples from the Plotly documentation](https://plotly.com/python/styling-plotly-express/) of these 4 methods by replacing the code in the cell below and running it."
   ]
  },
  {
   "cell_type": "code",
   "execution_count": null,
   "metadata": {
    "pycharm": {
     "is_executing": true
    }
   },
   "outputs": [],
   "source": [
    "import plotly.express as px\n",
    "df = px.data.tips()\n",
    "fig = px.histogram(df, x=\"day\", y=\"total_bill\", color=\"sex\")\n",
    "fig.show()"
   ]
  },
  {
   "cell_type": "markdown",
   "metadata": {},
   "source": [
    "### Chloropleth map\n",
    "Choropleth maps display divided geographical areas or regions that are coloured, shaded or patterned in relation to a data variable. [Read the description of their use](https://datavizcatalogue.com/methods/choropleth.html) before moving on to the next code cell.\n",
    "\n",
    "The following example is copied from the [Plotly documentation](https://plotly.com/python/plotly-express/#maps)."
   ]
  },
  {
   "cell_type": "code",
   "execution_count": null,
   "metadata": {
    "pycharm": {
     "is_executing": true
    }
   },
   "outputs": [],
   "source": [
    "import plotly.express as px\n",
    "\n",
    "df = px.data.election()\n",
    "\n",
    "geojson = px.data.election_geojson()\n",
    "\n",
    "fig = px.choropleth_mapbox(df, geojson=geojson, color=\"Bergeron\",\n",
    "                           locations=\"district\", featureidkey=\"properties.district\",\n",
    "                           center={\"lat\": 45.5517, \"lon\": -73.7073},\n",
    "                           mapbox_style=\"carto-positron\", zoom=9)\n",
    "fig.show()"
   ]
  },
  {
   "cell_type": "markdown",
   "metadata": {},
   "source": [
    "Let's try and create a chloropleth map using the gapminder data."
   ]
  },
  {
   "cell_type": "code",
   "execution_count": null,
   "metadata": {
    "pycharm": {
     "is_executing": true
    }
   },
   "outputs": [],
   "source": [
    "import plotly.express as px\n",
    "gapminder = px.data.gapminder()\n",
    "px.choropleth(gapminder,               \n",
    "              locations=\"iso_alpha\",               \n",
    "              color=\"lifeExp\",\n",
    "              hover_name=\"country\",  \n",
    "              animation_frame=\"year\",    \n",
    "              color_continuous_scale='Plasma',  \n",
    "              height=600\n",
    ")"
   ]
  },
  {
   "cell_type": "markdown",
   "metadata": {},
   "source": [
    "Now modify the code to add the following styling:\n",
    "- A suitable title for the chart\n",
    "- Apply the plotly_dark template"
   ]
  },
  {
   "cell_type": "code",
   "execution_count": null,
   "metadata": {
    "pycharm": {
     "is_executing": true
    }
   },
   "outputs": [],
   "source": [
    "# Modify the following code and add\n",
    "#A suitable title for the chart\n",
    "#Apply the plotly_dark template\n",
    "\n",
    "import plotly.express as px\n",
    "gapminder = px.data.gapminder()\n",
    "px.choropleth(gapminder,               \n",
    "              locations=\"iso_alpha\",               \n",
    "              color=\"lifeExp\",\n",
    "              hover_name=\"country\",  \n",
    "              animation_frame=\"year\",    \n",
    "              color_continuous_scale='Plasma',  \n",
    "              height=600\n",
    ")"
   ]
  },
  {
   "cell_type": "markdown",
   "metadata": {},
   "source": [
    "### Create a choropleth map using UK census data and local authority boundaries\n",
    "\n",
    "The geo boundary data was downloaded from the [office for national statistics (ONS)](https://geoportal.statistics.gov.uk/datasets/census-merged-local-authority-districts-december-2011-generalised-clipped-boundaries-in-great-britain). The file was edited to contain only the E000000000 reference column and the shape area and length. The `cmlad11cd` column was renamed to `LAD19CD` as required by the geojson conversion tool (see next line).\n",
    "\n",
    "The geodata was converted to geojson using an [online conversion tool](https://odileeds.github.io/CSV2GeoJSON/).\n",
    "\n",
    "The 2011 census data was downloaded from "
   ]
  },
  {
   "cell_type": "code",
   "execution_count": null,
   "metadata": {
    "pycharm": {
     "is_executing": true
    }
   },
   "outputs": [],
   "source": [
    "import plotly.express as px\n",
    "import pandas as pd\n",
    "import json\n",
    "\n",
    "age_data = pd.read_csv('Data_AGE_UNIT.csv')\n",
    "\n",
    "#las = pd.read_json('england_lad_2011.geojson')\n",
    "\n",
    "with open('england_lad_2011.geojson') as f:\n",
    "    la_coords = json.load(f)\n",
    "\n",
    "la_coords"
   ]
  },
  {
   "cell_type": "code",
   "execution_count": null,
   "metadata": {
    "pycharm": {
     "is_executing": true
    }
   },
   "outputs": [],
   "source": [
    "import plotly.express as px\n",
    "import pandas as pd\n",
    "import json\n",
    "\n",
    "age_data = pd.read_csv('Data_AGE_UNIT.csv')\n",
    "\n",
    "with open('england_lad_2011.geojson') as f:\n",
    "    la_coords = json.load(f)\n",
    "    \n",
    "fig = px.choropleth_mapbox(data_frame=age_data, \n",
    "                  geojson=la_coords['features'], \n",
    "                  featureidkey=None, \n",
    "                  locations=age_data['GEO_CODE'], \n",
    "                  color=None, \n",
    "                  hover_name=None, \n",
    "                  hover_data=None, \n",
    "                  custom_data=None, \n",
    "                  animation_frame=None, \n",
    "                  animation_group=None, \n",
    "                  category_orders={}, \n",
    "                  labels={}, \n",
    "                  color_discrete_sequence=None, \n",
    "                  color_discrete_map={}, \n",
    "                  color_continuous_scale=None, \n",
    "                  range_color=None, \n",
    "                  color_continuous_midpoint=None, \n",
    "                  opacity=None, \n",
    "                  zoom=8, \n",
    "                  center=None, \n",
    "                  mapbox_style='white-bg', \n",
    "                  title='Test', \n",
    "                  template=None, \n",
    "                  width=None,\n",
    "                  height=600\n",
    "                 )\n",
    "\n",
    "\n",
    "fig.show()"
   ]
  },
  {
   "cell_type": "code",
   "execution_count": null,
   "metadata": {
    "pycharm": {
     "is_executing": true
    }
   },
   "outputs": [],
   "source": [
    "import plotly.express as px\n",
    "import pandas as pd\n",
    "import json\n",
    "\n",
    "age_data = pd.read_csv('Data_AGE_UNIT.csv')\n",
    "\n",
    "with open('england_lad_2011.geojson') as f:\n",
    "    la_coords = json.load(f)\n",
    "\n",
    "fig = px.choropleth_mapbox(data_frame=age_data, \n",
    "                           geojson=la_coords, \n",
    "                           locations='GEO_CODE',\n",
    "                           featureidkey=\"properties.LAD19CD\",\n",
    "                           color='F105',\n",
    "                           color_continuous_scale=\"Viridis\", \n",
    "                           mapbox_style=\"carto-positron\",\n",
    "                           zoom=5, \n",
    "                           center={\"lat\": -1.20029, \"lon\": 54.57694}\n",
    "                          )\n",
    "#hover_name=\"GEO_LABEL\",\n",
    "#labels={'F105':'Over 100 years'}\n",
    "\n",
    "fig.show()"
   ]
  },
  {
   "cell_type": "code",
   "execution_count": null,
   "metadata": {
    "pycharm": {
     "is_executing": true
    }
   },
   "outputs": [],
   "source": []
  }
 ],
 "metadata": {
  "kernelspec": {
   "display_name": "Python 3",
   "language": "python",
   "name": "python3"
  },
  "language_info": {
   "codemirror_mode": {
    "name": "ipython",
    "version": 3
   },
   "file_extension": ".py",
   "mimetype": "text/x-python",
   "name": "python",
   "nbconvert_exporter": "python",
   "pygments_lexer": "ipython3",
   "version": "3.7.3"
  }
 },
 "nbformat": 4,
 "nbformat_minor": 1
}