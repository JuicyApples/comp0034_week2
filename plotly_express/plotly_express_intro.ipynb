{
 "cells": [
  {
   "cell_type": "markdown",
   "metadata": {
    "collapsed": true
   },
   "source": [
    "# Introduction to choropleth maps with plotly express\n",
    "[Plotly Express](https://plotly.com/python/plotly-express/) is a high level API for creating charts using Python. By high level, we mean that the much of the complexity of the code required to create a chart, such as you saw with matplotlib, is hidden from you and provided by the API, allowing you to create charts with less code. It also allows you to create interactive charts, i.e. those that the user can interact with, such as the example you saw in week 1 with the animated bubble chart using the gapminder data. In fact you used the plotly express library to create that chart.\n",
    "\n",
    "We are using plotly express this week to introduce you to the plotly syntax and introduce some interactive chart types. Next week we will take this to the next level and a web framework, Plotly Dash, to create interactive dashboards that can be delivered as web apps.\n",
    "\n",
    "You might recall that JavaScript (not Python) is used to add interactive elements to a web page. So why are you learning Plotly? Plotly uses D3.js behind the scenes. D3.js is a JavaScript library for producing dynamic, interactive data visualizations in web browsers. Why don't we just learn D3.js then? Well, we could, but it would mean learning another programming language, JavaScript, whereas the foundation language in this IEP minor is Python (and Python is more widely used in data science than JavaScript).\n",
    "\n",
    "Plotly express is now a module in the plotly Python package, though it used to be a separate package. Plotly.py is an open-source library built on plotly.js which in turn is built on d3.js. To add a further source of confusion, there are numerous third party wrappers for Plotly for different languages.\n",
    "\n",
    "The plotly express API also includes access to [some datasets](https://plotly.com/python-api-reference/generated/plotly.data.html#module-plotly.data), two of which we have already used (gapminder and iris). We will use some of their other built in datasets in this exercise.\n",
    " \n",
    "### Getting help from the [Plotly community forum](https://community.plotly.com/) and elsewhere\n",
    "The current version of Plotly.py at the time of writing this is 4.9. Some of the examples you may find online are from much earlier versions and the code is likely to need to be adapted to work wuth the current version.\n",
    "\n",
    "## Getting started\n",
    "\n",
    "Let's get on with some coding.\n",
    "\n",
    "You should already have installed the libraries for this week if you have been using the GitHub repository. If not then you will need to install plotly into your Python environment first using `pip install plotly`.\n",
    "\n",
    "The first step is to import the necessary libraries for use in this notebook. You can use `import plotly.express as px \n",
    "` however as of version 4.8 of plotly, you can now also use a Plotly Express-powered backend for Pandas plotting. This means you can now produce interactive plots directly from a data frame, without even needing to import Plotly."
   ]
  },
  {
   "cell_type": "code",
   "execution_count": null,
   "metadata": {
    "pycharm": {
     "is_executing": true
    }
   },
   "outputs": [],
   "source": [
    "import pandas as pd\n",
    "pd.options.plotting.backend = \"plotly\"\n",
    "\n",
    "df = pd.DataFrame(dict(a=[1,3,2], b=[3,2,1]))\n",
    "\n",
    "# using Plotly Express via the Pandas backend\n",
    "fig1 = df.plot.bar()\n",
    "fig1.show()"
   ]
  },
  {
   "cell_type": "code",
   "execution_count": null,
   "metadata": {
    "pycharm": {
     "is_executing": true
    }
   },
   "outputs": [],
   "source": [
    "# using Plotly Express directly\n",
    "import plotly.express as px\n",
    "fig2 = px.bar(df)\n",
    "fig2.show()"
   ]
  },
  {
   "cell_type": "markdown",
   "metadata": {},
   "source": [
    "### Styling charts\n",
    "There are the 4 ways you can style and customize figures made with Plotly Express:\n",
    "\n",
    "1. Control common parameters like width & height, titles, labeling and colors using built-in Plotly Express function arguments\n",
    "2. Updating the figure attributes using [update methods or by directly setting attributes](https://plotly.com/python/creating-and-updating-figures/)\n",
    "3. Using Plotly's [theming/templating mechanism](https://plotly.com/python/templates/) via the template argument to every Plotly Express function\n",
    "4. Setting default values for common parameters using px.defaults\n",
    "\n",
    "Try out the [examples from the Plotly documentation](https://plotly.com/python/styling-plotly-express/) of these 4 methods by replacing the code in the cell below and running it."
   ]
  },
  {
   "cell_type": "code",
   "execution_count": null,
   "metadata": {
    "pycharm": {
     "is_executing": true
    }
   },
   "outputs": [],
   "source": [
    "import plotly.express as px\n",
    "df = px.data.tips()\n",
    "fig = px.histogram(df, x=\"day\", y=\"total_bill\", color=\"sex\")\n",
    "fig.show()"
   ]
  },
  {
   "cell_type": "markdown",
   "metadata": {},
   "source": [
    "### Choropleth map\n",
    "Choropleth maps display divided geographical areas or regions that are coloured, shaded or patterned in relation to a data variable. [Read the description of their use](https://datavizcatalogue.com/methods/choropleth.html) before moving on to the next code cell.\n",
    "\n",
    "The following example is copied from the [Plotly documentation](https://plotly.com/python/plotly-express/#maps)."
   ]
  },
  {
   "cell_type": "code",
   "execution_count": null,
   "metadata": {
    "pycharm": {
     "is_executing": true
    }
   },
   "outputs": [],
   "source": [
    "import plotly.express as px\n",
    "\n",
    "df = px.data.election()\n",
    "\n",
    "geojson = px.data.election_geojson()\n",
    "\n",
    "fig = px.choropleth_mapbox(df, \n",
    "                           geojson=geojson, \n",
    "                           color=\"Bergeron\",\n",
    "                           locations=\"district\", \n",
    "                           featureidkey=\"properties.district\",\n",
    "                           center={\"lat\": 45.5517, \"lon\": -73.7073},\n",
    "                           mapbox_style=\"carto-positron\", \n",
    "                           zoom=9)\n",
    "fig.show()"
   ]
  },
  {
   "cell_type": "markdown",
   "metadata": {},
   "source": [
    "Let's try and create a choropleth map using the gapminder data."
   ]
  },
  {
   "cell_type": "code",
   "execution_count": null,
   "metadata": {
    "pycharm": {
     "is_executing": true
    }
   },
   "outputs": [],
   "source": [
    "import plotly.express as px\n",
    "\n",
    "gapminder = px.data.gapminder()\n",
    "\n",
    "px.choropleth(gapminder,               \n",
    "              locations=\"iso_alpha\",               \n",
    "              color=\"lifeExp\",\n",
    "              hover_name=\"country\",  \n",
    "              animation_frame=\"year\",    \n",
    "              color_continuous_scale='Plasma',  \n",
    "              height=600\n",
    ")"
   ]
  },
  {
   "cell_type": "markdown",
   "metadata": {},
   "source": [
    "Now modify the code to add the following styling:\n",
    "- A suitable title for the chart\n",
    "- Apply the plotly_dark template"
   ]
  },
  {
   "cell_type": "code",
   "execution_count": null,
   "metadata": {
    "pycharm": {
     "is_executing": true
    }
   },
   "outputs": [],
   "source": [
    "# Modify the following code and add\n",
    "#A suitable title for the chart\n",
    "#Apply the plotly_dark template\n",
    "\n",
    "import plotly.express as px\n",
    "gapminder = px.data.gapminder()\n",
    "px.choropleth(gapminder,               \n",
    "              locations=\"iso_alpha\",               \n",
    "              color=\"lifeExp\",\n",
    "              hover_name=\"country\",  \n",
    "              animation_frame=\"year\",    \n",
    "              color_continuous_scale='Plasma',  \n",
    "              height=600\n",
    ")"
   ]
  },
  {
   "cell_type": "markdown",
   "metadata": {},
   "source": [
    "### Create a choropleth map using England 2011 census data and local authority boundaries\n",
    "\n",
    "#### Data source\n",
    "The census boundary data was downloaded from [UK data service](https://census.ukdataservice.ac.uk/get-data/boundary-data.aspx)\n",
    "\n",
    "You can also get geo boundary data from the [office for national statistics (ONS)](https://geoportal.statistics.gov.uk/datasets/census-merged-local-authority-districts-december-2011-generalised-clipped-boundaries-in-great-britain).\n",
    "\n",
    "The geodata was converted to geojson using an [online conversion tool](https://odileeds.github.io/CSV2GeoJSON/).\n",
    "\n",
    "The 2011 census data was downloaded from [InFuse](https://infuse.ukdataservice.ac.uk).\n",
    "\n",
    "#### Geojson data\n",
    "In the previous examples we used default geo data using iso_alpha, for this example we only want UK local authorities drawn with boundaries as at the 2011 census.\n",
    "\n",
    "To do this we need to provide our own geojson.\n",
    "\n",
    "Plotly expects the geojson to have an id field, however if you run the next cell you will see that our data is indexed on LAD19CD.\n",
    "\n",
    "You could rename the JSON so LAD19CD is renamed as 'id'. Note: when converting the data using the csv to geodata converter there was also an option to change the field name.\n",
    "\n",
    "Plotly allows you to use a different name for the id field, however if you do that then you have to have a column of the same name in your dataframe. This is the approach taken in the cells below, where the index of the age dataframe is set to LAD19CD."
   ]
  },
  {
   "cell_type": "code",
   "execution_count": 3,
   "metadata": {},
   "outputs": [
    {
     "data": {
      "text/plain": [
       "{'type': 'Feature',\n",
       " 'properties': {'LAD19CD': 'E06000002',\n",
       "  'name': 'Middlesbrough',\n",
       "  'x': 450402.7095,\n",
       "  'y': 516635.4855},\n",
       " 'geometry': {'type': 'MultiPolygon',\n",
       "  'coordinates': [[[[-1.20029, 54.57694],\n",
       "     [-1.20026, 54.57692],\n",
       "     [-1.19959, 54.57664],\n",
       "     [-1.20029, 54.57694]]],\n",
       "   [[[-1.19707, 54.58179],\n",
       "     [-1.19739, 54.58132],\n",
       "     [-1.19846, 54.58167],\n",
       "     [-1.20247, 54.58041],\n",
       "     [-1.20216, 54.57899],\n",
       "     [-1.20095, 54.57769],\n",
       "     [-1.19869, 54.57805],\n",
       "     [-1.19434, 54.57987],\n",
       "     [-1.19707, 54.58179]]],\n",
       "   [[[-1.23003, 54.58411],\n",
       "     [-1.23432, 54.58521],\n",
       "     [-1.23981, 54.58722],\n",
       "     [-1.24618, 54.59028],\n",
       "     [-1.24922, 54.5907],\n",
       "     [-1.25171, 54.59068],\n",
       "     [-1.25335, 54.59028],\n",
       "     [-1.25555, 54.58917],\n",
       "     [-1.25716, 54.58714],\n",
       "     [-1.26014, 54.57297],\n",
       "     [-1.26041, 54.57169],\n",
       "     [-1.26224, 54.56962],\n",
       "     [-1.26585, 54.56791],\n",
       "     [-1.26918, 54.56704],\n",
       "     [-1.27385, 54.5668],\n",
       "     [-1.27815, 54.56621],\n",
       "     [-1.28177, 54.56527],\n",
       "     [-1.28159, 54.56471],\n",
       "     [-1.28177, 54.56473],\n",
       "     [-1.28085, 54.56415],\n",
       "     [-1.27786, 54.56054],\n",
       "     [-1.27527, 54.55865],\n",
       "     [-1.27118, 54.55718],\n",
       "     [-1.27061, 54.55602],\n",
       "     [-1.27104, 54.55445],\n",
       "     [-1.27178, 54.55357],\n",
       "     [-1.27361, 54.55271],\n",
       "     [-1.27413, 54.55205],\n",
       "     [-1.2756, 54.55172],\n",
       "     [-1.2762, 54.54882],\n",
       "     [-1.27721, 54.54787],\n",
       "     [-1.27694, 54.54718],\n",
       "     [-1.27801, 54.54711],\n",
       "     [-1.27779, 54.54608],\n",
       "     [-1.27864, 54.54576],\n",
       "     [-1.27887, 54.54524],\n",
       "     [-1.27879, 54.54242],\n",
       "     [-1.28196, 54.53866],\n",
       "     [-1.28356, 54.53795],\n",
       "     [-1.28396, 54.53812],\n",
       "     [-1.28482, 54.53704],\n",
       "     [-1.28466, 54.53667],\n",
       "     [-1.28543, 54.53625],\n",
       "     [-1.28465, 54.5329],\n",
       "     [-1.2847, 54.5305],\n",
       "     [-1.28507, 54.5303],\n",
       "     [-1.28478, 54.52906],\n",
       "     [-1.28427, 54.52882],\n",
       "     [-1.28431, 54.52794],\n",
       "     [-1.28352, 54.52788],\n",
       "     [-1.2839, 54.52765],\n",
       "     [-1.28339, 54.52751],\n",
       "     [-1.28302, 54.52657],\n",
       "     [-1.28207, 54.52643],\n",
       "     [-1.28246, 54.52538],\n",
       "     [-1.28206, 54.52411],\n",
       "     [-1.28276, 54.52297],\n",
       "     [-1.28194, 54.52248],\n",
       "     [-1.28075, 54.52056],\n",
       "     [-1.282, 54.51972],\n",
       "     [-1.28225, 54.51838],\n",
       "     [-1.28081, 54.51791],\n",
       "     [-1.27933, 54.51788],\n",
       "     [-1.27926, 54.5175],\n",
       "     [-1.27858, 54.51745],\n",
       "     [-1.27892, 54.51721],\n",
       "     [-1.27837, 54.5172],\n",
       "     [-1.27758, 54.51656],\n",
       "     [-1.27682, 54.51657],\n",
       "     [-1.27427, 54.5149],\n",
       "     [-1.27332, 54.51477],\n",
       "     [-1.2728, 54.5151],\n",
       "     [-1.26994, 54.51461],\n",
       "     [-1.26819, 54.51469],\n",
       "     [-1.26783, 54.51435],\n",
       "     [-1.26727, 54.51445],\n",
       "     [-1.26624, 54.51357],\n",
       "     [-1.26416, 54.513],\n",
       "     [-1.26386, 54.51255],\n",
       "     [-1.25907, 54.51267],\n",
       "     [-1.25638, 54.5114],\n",
       "     [-1.2563, 54.5124],\n",
       "     [-1.25124, 54.51312],\n",
       "     [-1.25064, 54.512],\n",
       "     [-1.24983, 54.51171],\n",
       "     [-1.24879, 54.51197],\n",
       "     [-1.24678, 54.5113],\n",
       "     [-1.24524, 54.51156],\n",
       "     [-1.24366, 54.5114],\n",
       "     [-1.24217, 54.51158],\n",
       "     [-1.24146, 54.51206],\n",
       "     [-1.24028, 54.51149],\n",
       "     [-1.23869, 54.5113],\n",
       "     [-1.23778, 54.51067],\n",
       "     [-1.23649, 54.51074],\n",
       "     [-1.23487, 54.51032],\n",
       "     [-1.2334, 54.51057],\n",
       "     [-1.23173, 54.51143],\n",
       "     [-1.23044, 54.511],\n",
       "     [-1.2306, 54.51188],\n",
       "     [-1.22761, 54.512],\n",
       "     [-1.22014, 54.51094],\n",
       "     [-1.21898, 54.51015],\n",
       "     [-1.21411, 54.51004],\n",
       "     [-1.2085, 54.50889],\n",
       "     [-1.20687, 54.50794],\n",
       "     [-1.20379, 54.50689],\n",
       "     [-1.20215, 54.50695],\n",
       "     [-1.19676, 54.50619],\n",
       "     [-1.19548, 54.50663],\n",
       "     [-1.18973, 54.50629],\n",
       "     [-1.18509, 54.50729],\n",
       "     [-1.18116, 54.50577],\n",
       "     [-1.18001, 54.50619],\n",
       "     [-1.17938, 54.506],\n",
       "     [-1.17614, 54.50431],\n",
       "     [-1.17555, 54.50469],\n",
       "     [-1.17386, 54.50472],\n",
       "     [-1.17347, 54.50405],\n",
       "     [-1.17421, 54.50384],\n",
       "     [-1.17391, 54.50321],\n",
       "     [-1.17452, 54.50295],\n",
       "     [-1.17354, 54.5025],\n",
       "     [-1.17273, 54.50288],\n",
       "     [-1.17231, 54.50255],\n",
       "     [-1.17179, 54.50268],\n",
       "     [-1.17065, 54.50235],\n",
       "     [-1.16897, 54.50353],\n",
       "     [-1.16698, 54.50338],\n",
       "     [-1.16664, 54.50372],\n",
       "     [-1.16603, 54.50311],\n",
       "     [-1.16537, 54.50355],\n",
       "     [-1.16419, 54.50315],\n",
       "     [-1.16407, 54.50341],\n",
       "     [-1.16311, 54.50354],\n",
       "     [-1.1583, 54.50237],\n",
       "     [-1.15267, 54.50191],\n",
       "     [-1.14806, 54.50113],\n",
       "     [-1.14669, 54.50137],\n",
       "     [-1.1462, 54.50282],\n",
       "     [-1.14626, 54.50311],\n",
       "     [-1.14408, 54.50382],\n",
       "     [-1.14286, 54.5048],\n",
       "     [-1.14112, 54.50777],\n",
       "     [-1.13947, 54.50927],\n",
       "     [-1.13737, 54.515],\n",
       "     [-1.13996, 54.51581],\n",
       "     [-1.1425, 54.51596],\n",
       "     [-1.14733, 54.51526],\n",
       "     [-1.14824, 54.5144],\n",
       "     [-1.15322, 54.51613],\n",
       "     [-1.15595, 54.51629],\n",
       "     [-1.15974, 54.51584],\n",
       "     [-1.16154, 54.51847],\n",
       "     [-1.16182, 54.5202],\n",
       "     [-1.16499, 54.52194],\n",
       "     [-1.1628, 54.52333],\n",
       "     [-1.16132, 54.52498],\n",
       "     [-1.16436, 54.52568],\n",
       "     [-1.1678, 54.52697],\n",
       "     [-1.17921, 54.53257],\n",
       "     [-1.19143, 54.53932],\n",
       "     [-1.19906, 54.5445],\n",
       "     [-1.19568, 54.5452],\n",
       "     [-1.19182, 54.54746],\n",
       "     [-1.18971, 54.54821],\n",
       "     [-1.17919, 54.55021],\n",
       "     [-1.17434, 54.55262],\n",
       "     [-1.17004, 54.55333],\n",
       "     [-1.16664, 54.55423],\n",
       "     [-1.1694, 54.55685],\n",
       "     [-1.17073, 54.55742],\n",
       "     [-1.17229, 54.5593],\n",
       "     [-1.17574, 54.56106],\n",
       "     [-1.17643, 54.56653],\n",
       "     [-1.17775, 54.56847],\n",
       "     [-1.18355, 54.56922],\n",
       "     [-1.18485, 54.56979],\n",
       "     [-1.18657, 54.57266],\n",
       "     [-1.19037, 54.57492],\n",
       "     [-1.19208, 54.57466],\n",
       "     [-1.19213, 54.57466],\n",
       "     [-1.19403, 54.57436],\n",
       "     [-1.19424, 54.57433],\n",
       "     [-1.19443, 54.57443],\n",
       "     [-1.19626, 54.57521],\n",
       "     [-1.19824, 54.57593],\n",
       "     [-1.19832, 54.57597],\n",
       "     [-1.20017, 54.57684],\n",
       "     [-1.20025, 54.57689],\n",
       "     [-1.20035, 54.57697],\n",
       "     [-1.20174, 54.57757],\n",
       "     [-1.20103, 54.57768],\n",
       "     [-1.20231, 54.579],\n",
       "     [-1.20282, 54.5803],\n",
       "     [-1.20421, 54.57988],\n",
       "     [-1.20346, 54.57728],\n",
       "     [-1.20377, 54.57693],\n",
       "     [-1.20697, 54.57674],\n",
       "     [-1.2036, 54.57715],\n",
       "     [-1.20481, 54.57999],\n",
       "     [-1.20921, 54.57987],\n",
       "     [-1.21246, 54.5802],\n",
       "     [-1.21978, 54.57888],\n",
       "     [-1.21988, 54.5802],\n",
       "     [-1.21592, 54.58052],\n",
       "     [-1.21534, 54.58065],\n",
       "     [-1.21571, 54.58107],\n",
       "     [-1.22101, 54.58246],\n",
       "     [-1.22669, 54.58356],\n",
       "     [-1.22857, 54.58361],\n",
       "     [-1.22935, 54.58396],\n",
       "     [-1.2297, 54.58364],\n",
       "     [-1.22984, 54.58405],\n",
       "     [-1.23016, 54.58374],\n",
       "     [-1.23003, 54.58411]]]]}}"
      ]
     },
     "execution_count": 3,
     "metadata": {},
     "output_type": "execute_result"
    }
   ],
   "source": [
    "#View the geojson data\n",
    "from urllib.request import urlopen\n",
    "import json\n",
    "\n",
    "with urlopen('https://raw.githubusercontent.com/nicholsons/comp0034_week2/master/plotly_express/england_lad_2011.geojson') as response:\n",
    "    la_coords = json.load(response)\n",
    "\n",
    "la_coords['features'][0]"
   ]
  },
  {
   "cell_type": "code",
   "execution_count": 1,
   "metadata": {
    "pycharm": {
     "is_executing": true
    }
   },
   "outputs": [
    {
     "data": {
      "text/html": [
       "<div>\n",
       "<style scoped>\n",
       "    .dataframe tbody tr th:only-of-type {\n",
       "        vertical-align: middle;\n",
       "    }\n",
       "\n",
       "    .dataframe tbody tr th {\n",
       "        vertical-align: top;\n",
       "    }\n",
       "\n",
       "    .dataframe thead th {\n",
       "        text-align: right;\n",
       "    }\n",
       "</style>\n",
       "<table border=\"1\" class=\"dataframe\">\n",
       "  <thead>\n",
       "    <tr style=\"text-align: right;\">\n",
       "      <th></th>\n",
       "      <th>LAD19CD</th>\n",
       "      <th>GEO_LABEL</th>\n",
       "      <th>F105</th>\n",
       "    </tr>\n",
       "  </thead>\n",
       "  <tbody>\n",
       "    <tr>\n",
       "      <th>1</th>\n",
       "      <td>E06000001</td>\n",
       "      <td>Hartlepool</td>\n",
       "      <td>14</td>\n",
       "    </tr>\n",
       "    <tr>\n",
       "      <th>2</th>\n",
       "      <td>E06000002</td>\n",
       "      <td>Middlesbrough</td>\n",
       "      <td>15</td>\n",
       "    </tr>\n",
       "    <tr>\n",
       "      <th>3</th>\n",
       "      <td>E06000003</td>\n",
       "      <td>Redcar and Cleveland</td>\n",
       "      <td>20</td>\n",
       "    </tr>\n",
       "    <tr>\n",
       "      <th>4</th>\n",
       "      <td>E06000004</td>\n",
       "      <td>Stockton-on-Tees</td>\n",
       "      <td>14</td>\n",
       "    </tr>\n",
       "    <tr>\n",
       "      <th>5</th>\n",
       "      <td>E06000005</td>\n",
       "      <td>Darlington</td>\n",
       "      <td>28</td>\n",
       "    </tr>\n",
       "    <tr>\n",
       "      <th>...</th>\n",
       "      <td>...</td>\n",
       "      <td>...</td>\n",
       "      <td>...</td>\n",
       "    </tr>\n",
       "    <tr>\n",
       "      <th>320</th>\n",
       "      <td>E09000030</td>\n",
       "      <td>Tower Hamlets</td>\n",
       "      <td>18</td>\n",
       "    </tr>\n",
       "    <tr>\n",
       "      <th>321</th>\n",
       "      <td>E09000031</td>\n",
       "      <td>Waltham Forest</td>\n",
       "      <td>38</td>\n",
       "    </tr>\n",
       "    <tr>\n",
       "      <th>322</th>\n",
       "      <td>E09000032</td>\n",
       "      <td>Wandsworth</td>\n",
       "      <td>47</td>\n",
       "    </tr>\n",
       "    <tr>\n",
       "      <th>323</th>\n",
       "      <td>E41000052</td>\n",
       "      <td>Cornwall, Isles of Scilly</td>\n",
       "      <td>176</td>\n",
       "    </tr>\n",
       "    <tr>\n",
       "      <th>324</th>\n",
       "      <td>E41000324</td>\n",
       "      <td>City of London, Westminster</td>\n",
       "      <td>26</td>\n",
       "    </tr>\n",
       "  </tbody>\n",
       "</table>\n",
       "<p>324 rows × 3 columns</p>\n",
       "</div>"
      ],
      "text/plain": [
       "       LAD19CD                    GEO_LABEL F105\n",
       "1    E06000001                   Hartlepool   14\n",
       "2    E06000002                Middlesbrough   15\n",
       "3    E06000003         Redcar and Cleveland   20\n",
       "4    E06000004             Stockton-on-Tees   14\n",
       "5    E06000005                   Darlington   28\n",
       "..         ...                          ...  ...\n",
       "320  E09000030                Tower Hamlets   18\n",
       "321  E09000031               Waltham Forest   38\n",
       "322  E09000032                   Wandsworth   47\n",
       "323  E41000052    Cornwall, Isles of Scilly  176\n",
       "324  E41000324  City of London, Westminster   26\n",
       "\n",
       "[324 rows x 3 columns]"
      ]
     },
     "execution_count": 1,
     "metadata": {},
     "output_type": "execute_result"
    }
   ],
   "source": [
    "import pandas as pd\n",
    "\n",
    "# Read the data for the over 100's into a data frame and set the index to be LAD19CD\n",
    "col_list = [\"GEO_CODE\", \"GEO_LABEL\", \"F105\"]\n",
    "age_data = pd.read_csv('Data_AGE_UNIT.csv', usecols=col_list, dtype={\"GEO_CODE\": str})\n",
    "age_data = age_data.drop([0], axis=0) # Remove the first row which is secondary heading data\n",
    "age_data = age_data.rename(columns={\"GEO_CODE\": \"LAD19CD\"})\n",
    "\n",
    "age_data"
   ]
  },
  {
   "cell_type": "code",
   "execution_count": null,
   "metadata": {
    "pycharm": {
     "is_executing": true
    }
   },
   "outputs": [],
   "source": [
    "import plotly.express as px\n",
    "import pandas as pd\n",
    "from urllib.request import urlopen\n",
    "import json\n",
    "\n",
    "# Read the data for the over 100's into a data frame, drop the second heading row, rename the GEO_CODE to LAD19CD\n",
    "col_list = [\"GEO_CODE\", \"GEO_LABEL\", \"F105\"]\n",
    "age_data = pd.read_csv('Data_AGE_UNIT.csv', usecols=col_list, dtype={\"GEO_CODE\": str})\n",
    "age_data = age_data.drop([0], axis=0)\n",
    "age_data = age_data.rename(columns={\"GEO_CODE\": \"LAD19CD\"})\n",
    "#age_data = age_data.set_index('LAD19CD')\n",
    "\n",
    "# Open the json data, in this case from GitHub\n",
    "with urlopen('https://raw.githubusercontent.com/nicholsons/comp0034_week2/master/plotly_express/england_lad_2011.geojson') as response:\n",
    "    la_coords = json.load(response)\n",
    "\n",
    "# Create the choropleth mapbox\n",
    "fig = px.choropleth_mapbox(data_frame=age_data, \n",
    "                           geojson=la_coords, \n",
    "                           locations=\"LAD19CD\",\n",
    "                           featureidkey=\"properties.LAD19CD\",\n",
    "                           color='F105',\n",
    "                           center={\"lat\": 51.509865, \"lon\": -0.118092},\n",
    "                           mapbox_style=\"carto-positron\",\n",
    "                           zoom=5,\n",
    "                           hover_name=\"GEO_LABEL\",\n",
    "                           labels={'GEO_LABEL':'Local authority'},\n",
    "                           title=\"Number of residents over 100 by London Local Authority in the 2011 Census\",\n",
    "                           height=600\n",
    "                          )\n",
    "\n",
    "\n",
    "fig.show()"
   ]
  },
  {
   "cell_type": "code",
   "execution_count": null,
   "outputs": [],
   "source": [],
   "metadata": {
    "collapsed": false,
    "pycharm": {
     "name": "#%%\n"
    }
   }
  },
  {
   "cell_type": "code",
   "execution_count": null,
   "outputs": [],
   "source": [],
   "metadata": {
    "collapsed": false,
    "pycharm": {
     "name": "#%%\n"
    }
   }
  },
  {
   "cell_type": "code",
   "execution_count": null,
   "metadata": {
    "pycharm": {
     "name": "#%%\n"
    }
   },
   "outputs": [],
   "source": []
  },
  {
   "cell_type": "code",
   "execution_count": null,
   "metadata": {
    "pycharm": {
     "name": "#%%\n"
    }
   },
   "outputs": [],
   "source": []
  },
  {
   "cell_type": "code",
   "execution_count": null,
   "metadata": {
    "pycharm": {
     "name": "#%%\n"
    }
   },
   "outputs": [],
   "source": []
  },
  {
   "cell_type": "code",
   "execution_count": null,
   "metadata": {
    "pycharm": {
     "name": "#%%\n"
    }
   },
   "outputs": [],
   "source": []
  },
  {
   "cell_type": "code",
   "execution_count": null,
   "metadata": {
    "pycharm": {
     "name": "#%%\n"
    }
   },
   "outputs": [],
   "source": []
  },
  {
   "cell_type": "code",
   "execution_count": null,
   "metadata": {
    "pycharm": {
     "name": "#%%\n"
    }
   },
   "outputs": [],
   "source": []
  },
  {
   "cell_type": "code",
   "execution_count": null,
   "metadata": {
    "pycharm": {
     "name": "#%%\n"
    }
   },
   "outputs": [],
   "source": []
  },
  {
   "cell_type": "code",
   "execution_count": null,
   "metadata": {
    "pycharm": {
     "name": "#%%\n"
    }
   },
   "outputs": [],
   "source": []
  },
  {
   "cell_type": "code",
   "execution_count": null,
   "metadata": {},
   "outputs": [],
   "source": []
  },
  {
   "cell_type": "code",
   "execution_count": null,
   "metadata": {},
   "outputs": [],
   "source": []
  }
 ],
 "metadata": {
  "kernelspec": {
   "display_name": "Python 3",
   "language": "python",
   "name": "python3"
  },
  "language_info": {
   "codemirror_mode": {
    "name": "ipython",
    "version": 3
   },
   "file_extension": ".py",
   "mimetype": "text/x-python",
   "name": "python",
   "nbconvert_exporter": "python",
   "pygments_lexer": "ipython3",
   "version": "3.7.3"
  }
 },
 "nbformat": 4,
 "nbformat_minor": 1
}